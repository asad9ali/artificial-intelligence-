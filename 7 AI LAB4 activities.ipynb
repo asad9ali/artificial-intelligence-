{
 "cells": [
  {
   "cell_type": "code",
   "execution_count": null,
   "id": "c9638ac5",
   "metadata": {},
   "outputs": [],
   "source": [
    "class Node:\n",
    "    def __init__(self,state,parent,actions,totalCost):\n",
    "        self.state=state\n",
    "        self.parent=parent\n",
    "        self.actions=actions\n",
    "        \n",
    "        self.totalCost=totalCost\n",
    "        \n",
    "        \n",
    "graph = {'A' : Node('A' , None , ['B' , 'E' , 'C'] , None),\n",
    "         'B' : Node('B' , None , ['D' , 'E' , 'A'] , None),\n",
    "         'C' : Node('C' , None , ['A' , 'F' , 'G'] , None),\n",
    "         'D' : Node('D' , None , ['B' , 'E'] , None),\n",
    "         'E' : Node('E' , None , ['A' , 'B' , 'D'] , None),\n",
    "         'F' : Node('F' , None , ['C'] , None),\n",
    "         'G' : Node('G' , None , ['C'] , None)}\n",
    "         "
   ]
  },
  {
   "cell_type": "code",
   "execution_count": null,
   "id": "053e84ab",
   "metadata": {},
   "outputs": [],
   "source": [
    "def DFS():\n",
    "    initialState = 'A'\n",
    "    goalState = 'D'\n",
    "    \n",
    "    \n",
    "    {'A' : Node('A' , None , ['B' , 'E' , 'C'] , None),\n",
    "         'B' : Node('B' , None , ['D' , 'E' , 'A'] , None),\n",
    "         'C' : Node('C' , None , ['A' , 'F' , 'G'] , None),\n",
    "         'D' : Node('D' , None , ['B' , 'E'] , None),\n",
    "         'E' : Node('E' , None , ['A' , 'B' , 'D'] , None),\n",
    "         'F' : Node('F' , None , ['C'] , None),\n",
    "         'G' : Node('G' , None , ['C'] , None)}\n",
    "    \n",
    "    frontier = [initialState]\n",
    "    explored=[]\n",
    "    while len(frontier)!=0:\n",
    "        currentNode = frontier.pop(len(frontier)-1)\n",
    "        print(currentNode)\n",
    "        explored.append(currentNode)\n",
    "        currentChildren=0\n",
    "        for child in graph[currentNode].actions:\n",
    "            if child not in frontier and child not in explored:\n",
    "                graph[child].parent=currentNode\n",
    "                if graph[child].state==goalState :\n",
    "                    print(explored)\n",
    "                    return actionSequence(graph , initialState , goalState)\n",
    "                currentChildren == currentChildren+1\n",
    "                frontier.append(child)\n",
    "        \n",
    "        \n",
    "        if currentChildren == 0:\n",
    "            del explored[len (explored)-1]\n",
    "            \n",
    "            \n",
    "solution = DFS():\n",
    "print (solution)\n",
    "\n",
    "def actionSequence(graph , initalState , goalState) :\n",
    "    \n",
    "    \n",
    "    solution=[goalState].parent\n",
    "    currentParent=graph[goalState].parent\n",
    "    while currentParent!=None:\n",
    "         solution.append(currentParent)\n",
    "    currentParent=graph[currentParent].parent\n",
    "     solution.reverse()\n",
    "    return solution"
   ]
  },
  {
   "cell_type": "code",
   "execution_count": null,
   "id": "d8322481",
   "metadata": {},
   "outputs": [],
   "source": []
  },
  {
   "cell_type": "code",
   "execution_count": null,
   "id": "97e8f24c",
   "metadata": {},
   "outputs": [],
   "source": []
  },
  {
   "cell_type": "code",
   "execution_count": null,
   "id": "49cc440c",
   "metadata": {},
   "outputs": [],
   "source": []
  },
  {
   "cell_type": "code",
   "execution_count": null,
   "id": "99c43a67",
   "metadata": {},
   "outputs": [],
   "source": []
  }
 ],
 "metadata": {
  "kernelspec": {
   "display_name": "Python 3 (ipykernel)",
   "language": "python",
   "name": "python3"
  },
  "language_info": {
   "codemirror_mode": {
    "name": "ipython",
    "version": 3
   },
   "file_extension": ".py",
   "mimetype": "text/x-python",
   "name": "python",
   "nbconvert_exporter": "python",
   "pygments_lexer": "ipython3",
   "version": "3.9.7"
  }
 },
 "nbformat": 4,
 "nbformat_minor": 5
}
