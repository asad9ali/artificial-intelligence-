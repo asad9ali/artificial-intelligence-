{
 "cells": [
  {
   "cell_type": "code",
   "execution_count": 1,
   "id": "e567e5e8",
   "metadata": {},
   "outputs": [
    {
     "ename": "SyntaxError",
     "evalue": "invalid syntax (Temp/ipykernel_3676/4286883673.py, line 2)",
     "output_type": "error",
     "traceback": [
      "\u001b[1;36m  File \u001b[1;32m\"C:\\Users\\MOONCO~1\\AppData\\Local\\Temp/ipykernel_3676/4286883673.py\"\u001b[1;36m, line \u001b[1;32m2\u001b[0m\n\u001b[1;33m    def__init__(self , state , parent , actions , totaLCost):\u001b[0m\n\u001b[1;37m                                                             ^\u001b[0m\n\u001b[1;31mSyntaxError\u001b[0m\u001b[1;31m:\u001b[0m invalid syntax\n"
     ]
    }
   ],
   "source": [
    "class  Node:\n",
    "    def__init__(self , state , parent , actions , totaLCost):\n",
    "        self.state = state\n",
    "        self.parent = parent\n",
    "        self.actions = actions\n",
    "        \n",
    "        self.tatalCost = totalCost\n",
    "        \n",
    "        \n",
    "graph = {'A' : Node('A' , None, ['B' , 'C' , 'E'] , None)\n",
    "         'B' : Node('B' , None, ['A' , 'D' , 'E'] , None)\n",
    "         'C' : Node('C' , None, ['A' , 'F' , 'G'] , None)\n",
    "         'D' : Node('D' , None, ['B' , 'E'] , None)\n",
    "         'E' : Node('E' , None, ['A' , 'B' , 'D'] , None)\n",
    "         'F' : Node('F' , None, ['C'] , None)\n",
    "         'G' : Node('G' , None, ['C'] , None)\n",
    "        }\n",
    "        "
   ]
  },
  {
   "cell_type": "code",
   "execution_count": 2,
   "id": "a7711d42",
   "metadata": {},
   "outputs": [
    {
     "ename": "SyntaxError",
     "evalue": "invalid syntax (Temp/ipykernel_3676/2604219900.py, line 6)",
     "output_type": "error",
     "traceback": [
      "\u001b[1;36m  File \u001b[1;32m\"C:\\Users\\MOONCO~1\\AppData\\Local\\Temp/ipykernel_3676/2604219900.py\"\u001b[1;36m, line \u001b[1;32m6\u001b[0m\n\u001b[1;33m    'B' : Node('B' , None, ['A' , 'D' , 'E'] , None)\u001b[0m\n\u001b[1;37m    ^\u001b[0m\n\u001b[1;31mSyntaxError\u001b[0m\u001b[1;31m:\u001b[0m invalid syntax\n"
     ]
    }
   ],
   "source": [
    "def BFS():\n",
    "    initialState ='D'\n",
    "    goalState='F'\n",
    "    \n",
    "    graph = {'A' : Node('A' , None, ['B' , 'C' , 'E'] , None)\n",
    "         'B' : Node('B' , None, ['A' , 'D' , 'E'] , None)\n",
    "         'C' : Node('C' , None, ['A' , 'F' , 'G'] , None)\n",
    "         'D' : Node('D' , None, ['B' , 'E'] , None)\n",
    "         'E' : Node('E' , None, ['A' , 'B' , 'D'] , None)\n",
    "         'F' : Node('F' , None, ['C'] , None)\n",
    "         'G' : Node('G' , None, ['C'] , None)\n",
    "        }\n",
    "    \n",
    "    \n",
    "    frontier=[initialState]\n",
    "    expored=[]\n",
    "while len(frontier)!=0:\n",
    "    currentNode= frontier.pop(0)\n",
    "    explored.append(currentNode)\n",
    "    for child in graph[currentNode].actions:\n",
    "        if child not in frontier and child not in explored:\n",
    "            graph[child].state==goalState:\n",
    "                return actionSequence(graph, initialState , goalState)\n",
    "            frontier.append(child)\n",
    "    "
   ]
  },
  {
   "cell_type": "code",
   "execution_count": 3,
   "id": "8cf0e369",
   "metadata": {},
   "outputs": [],
   "source": [
    "def actionSequence(graph , initialstate , goalState):\n",
    "    solution=[goalState]\n",
    "    currentparent=graph[goalState].parent\n",
    "    while currentparent!=None:\n",
    "        solution.append(currentparent)\n",
    "        currentparent=graph[currentparent].parent\n",
    "    solution.reverse()\n",
    "    return solution"
   ]
  },
  {
   "cell_type": "code",
   "execution_count": null,
   "id": "358c74fa",
   "metadata": {},
   "outputs": [],
   "source": []
  }
 ],
 "metadata": {
  "kernelspec": {
   "display_name": "Python 3 (ipykernel)",
   "language": "python",
   "name": "python3"
  },
  "language_info": {
   "codemirror_mode": {
    "name": "ipython",
    "version": 3
   },
   "file_extension": ".py",
   "mimetype": "text/x-python",
   "name": "python",
   "nbconvert_exporter": "python",
   "pygments_lexer": "ipython3",
   "version": "3.9.7"
  }
 },
 "nbformat": 4,
 "nbformat_minor": 5
}
