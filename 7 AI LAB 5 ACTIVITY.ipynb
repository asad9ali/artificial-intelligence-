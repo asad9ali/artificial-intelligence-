{
 "cells": [
  {
   "cell_type": "code",
   "execution_count": 1,
   "id": "732eb460",
   "metadata": {},
   "outputs": [
    {
     "ename": "SyntaxError",
     "evalue": "'return' outside function (Temp/ipykernel_7652/954567075.py, line 30)",
     "output_type": "error",
     "traceback": [
      "\u001b[1;36m  File \u001b[1;32m\"C:\\Users\\MOONCO~1\\AppData\\Local\\Temp/ipykernel_7652/954567075.py\"\u001b[1;36m, line \u001b[1;32m30\u001b[0m\n\u001b[1;33m    return result,True\u001b[0m\n\u001b[1;37m    ^\u001b[0m\n\u001b[1;31mSyntaxError\u001b[0m\u001b[1;31m:\u001b[0m 'return' outside function\n"
     ]
    }
   ],
   "source": [
    "def terative_deeping_dfs(start, target):\n",
    "    depth =1 \n",
    "    bottom_reached = False\n",
    "    while not bottom_reach:\n",
    "        result, bottom,reached = iterative_deeping_dfs_rec_(start,target,0,depth)\n",
    "        if result is not None:\n",
    "            return result\n",
    "        depth *=2\n",
    "        print(\"increasing depth to\"+str(depth))\n",
    "        return None\n",
    "    def iterative_deeping_dfs_rec(node,target,current,max_depth):\n",
    "        print(\"Visiting Node\"+str(node[\"value\"]))\n",
    "        \n",
    "    if node[\"value\"]==target:\n",
    "        print(\"Found the node we looking for!\")\n",
    "        return node,True\n",
    "    if current_depth==max_depth:\n",
    "        print(\"Current maximum depth reached, returnin...\")\n",
    "        if len(node[\"children\"])>0:\n",
    "            return NONE,False\n",
    "        else:\n",
    "            return None,True\n",
    "        \n",
    "        bottom_reached=True\n",
    "        \n",
    "for i in range(len(node[\"children\"])):\n",
    "    result ,bottom_reached_rec=iterative_deeping_dfs(node[\"children\"][i],target,current_depth+1,max_depth)\n",
    "    \n",
    "    if result is not None:\n",
    "        return result,True\n",
    "    bottom_reached=bottom_reached and bottom_reached_rec\n",
    "    return None, bottom_reached\n",
    "\n",
    "start = {\n",
    "    \"value\":0,\"children\":[\n",
    "        {\"value\":1,\"children\":[\n",
    "             {\"value\":3,\"children\":[]},\n",
    "             {\"value\":4,\"children\":[]}\n",
    "        \n",
    "    ]},{\n",
    "             \"value\":2,\"children\":[\n",
    "             {\"value\":5,\"children\":[]},\n",
    "             {\"value\":6,\"children\":[]}\n",
    "            ]\n",
    "        }\n",
    "    ]\n",
    "}\n",
    "        \n",
    "        "
   ]
  },
  {
   "cell_type": "code",
   "execution_count": null,
   "id": "c13428bd",
   "metadata": {},
   "outputs": [],
   "source": []
  }
 ],
 "metadata": {
  "kernelspec": {
   "display_name": "Python 3 (ipykernel)",
   "language": "python",
   "name": "python3"
  },
  "language_info": {
   "codemirror_mode": {
    "name": "ipython",
    "version": 3
   },
   "file_extension": ".py",
   "mimetype": "text/x-python",
   "name": "python",
   "nbconvert_exporter": "python",
   "pygments_lexer": "ipython3",
   "version": "3.9.7"
  }
 },
 "nbformat": 4,
 "nbformat_minor": 5
}
